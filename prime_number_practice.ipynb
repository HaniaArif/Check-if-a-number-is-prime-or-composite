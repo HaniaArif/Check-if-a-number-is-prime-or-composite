{
  "nbformat": 4,
  "nbformat_minor": 0,
  "metadata": {
    "colab": {
      "name": "prime number practice.ipynb",
      "provenance": [],
      "collapsed_sections": [],
      "authorship_tag": "ABX9TyN3voa8EhRr/Qa1yv8E1Aj5",
      "include_colab_link": true
    },
    "kernelspec": {
      "name": "python3",
      "display_name": "Python 3"
    }
  },
  "cells": [
    {
      "cell_type": "markdown",
      "metadata": {
        "id": "view-in-github",
        "colab_type": "text"
      },
      "source": [
        "<a href=\"https://colab.research.google.com/github/HaniaArif/Check-if-a-number-is-prime-or-composite/blob/main/prime_number_practice.ipynb\" target=\"_parent\"><img src=\"https://colab.research.google.com/assets/colab-badge.svg\" alt=\"Open In Colab\"/></a>"
      ]
    },
    {
      "cell_type": "code",
      "metadata": {
        "id": "PIdWHN53i01C"
      },
      "source": [
        "def checkPrime(n):\r\n",
        "    if (n == 1):\r\n",
        "      return \"Not Prime\"\r\n",
        "    if (n==2 or n==3 or n==5 or n==7):\r\n",
        "      return \"Prime\"\r\n",
        "    elif (n%2==0 or n%5==0 or n%7==0):\r\n",
        "      return \"Not Prime\"\r\n",
        "    nPlusOne = [int(d) for d in str(n+1)]\r\n",
        "    nMinusOne = [int(d) for d in str(n-1)]\r\n",
        "    #print(\"original:\", n,\"n+1:\", nPlusOne,\"n-1:\",  nMinusOne)\r\n",
        "    if (sum(nPlusOne)%3 == 0  or sum(nMinusOne)%3 == 0):\r\n",
        "      return \"Prime\"\r\n",
        "    else:\r\n",
        "      return \"Not Prime\""
      ],
      "execution_count": 30,
      "outputs": []
    },
    {
      "cell_type": "code",
      "metadata": {
        "colab": {
          "base_uri": "https://localhost:8080/"
        },
        "id": "H0B_inZjU0oc",
        "outputId": "2038fbc0-c8f6-42a3-f2c9-d98293a3c82c"
      },
      "source": [
        "for i in range (1,100):\r\n",
        "  print(i, checkPrime(i))"
      ],
      "execution_count": 31,
      "outputs": [
        {
          "output_type": "stream",
          "text": [
            "1 Not Prime\n",
            "2 Prime\n",
            "3 Prime\n",
            "4 Not Prime\n",
            "5 Prime\n",
            "6 Not Prime\n",
            "7 Prime\n",
            "8 Not Prime\n",
            "9 Not Prime\n",
            "10 Not Prime\n",
            "11 Prime\n",
            "12 Not Prime\n",
            "13 Prime\n",
            "14 Not Prime\n",
            "15 Not Prime\n",
            "16 Not Prime\n",
            "17 Prime\n",
            "18 Not Prime\n",
            "19 Prime\n",
            "20 Not Prime\n",
            "21 Not Prime\n",
            "22 Not Prime\n",
            "23 Prime\n",
            "24 Not Prime\n",
            "25 Not Prime\n",
            "26 Not Prime\n",
            "27 Not Prime\n",
            "28 Not Prime\n",
            "29 Prime\n",
            "30 Not Prime\n",
            "31 Prime\n",
            "32 Not Prime\n",
            "33 Not Prime\n",
            "34 Not Prime\n",
            "35 Not Prime\n",
            "36 Not Prime\n",
            "37 Prime\n",
            "38 Not Prime\n",
            "39 Not Prime\n",
            "40 Not Prime\n",
            "41 Prime\n",
            "42 Not Prime\n",
            "43 Prime\n",
            "44 Not Prime\n",
            "45 Not Prime\n",
            "46 Not Prime\n",
            "47 Prime\n",
            "48 Not Prime\n",
            "49 Not Prime\n",
            "50 Not Prime\n",
            "51 Not Prime\n",
            "52 Not Prime\n",
            "53 Prime\n",
            "54 Not Prime\n",
            "55 Not Prime\n",
            "56 Not Prime\n",
            "57 Not Prime\n",
            "58 Not Prime\n",
            "59 Prime\n",
            "60 Not Prime\n",
            "61 Prime\n",
            "62 Not Prime\n",
            "63 Not Prime\n",
            "64 Not Prime\n",
            "65 Not Prime\n",
            "66 Not Prime\n",
            "67 Prime\n",
            "68 Not Prime\n",
            "69 Not Prime\n",
            "70 Not Prime\n",
            "71 Prime\n",
            "72 Not Prime\n",
            "73 Prime\n",
            "74 Not Prime\n",
            "75 Not Prime\n",
            "76 Not Prime\n",
            "77 Not Prime\n",
            "78 Not Prime\n",
            "79 Prime\n",
            "80 Not Prime\n",
            "81 Not Prime\n",
            "82 Not Prime\n",
            "83 Prime\n",
            "84 Not Prime\n",
            "85 Not Prime\n",
            "86 Not Prime\n",
            "87 Not Prime\n",
            "88 Not Prime\n",
            "89 Prime\n",
            "90 Not Prime\n",
            "91 Not Prime\n",
            "92 Not Prime\n",
            "93 Not Prime\n",
            "94 Not Prime\n",
            "95 Not Prime\n",
            "96 Not Prime\n",
            "97 Prime\n",
            "98 Not Prime\n",
            "99 Not Prime\n"
          ],
          "name": "stdout"
        }
      ]
    }
  ]
}