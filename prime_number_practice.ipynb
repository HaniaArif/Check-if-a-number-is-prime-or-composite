{
  "nbformat": 4,
  "nbformat_minor": 0,
  "metadata": {
    "colab": {
      "name": "prime number practice.ipynb",
      "provenance": [],
      "authorship_tag": "ABX9TyOLf5wtKJ0RJLtvmHwxaSgB",
      "include_colab_link": true
    },
    "kernelspec": {
      "name": "python3",
      "display_name": "Python 3"
    }
  },
  "cells": [
    {
      "cell_type": "markdown",
      "metadata": {
        "id": "view-in-github",
        "colab_type": "text"
      },
      "source": [
        "<a href=\"https://colab.research.google.com/github/HaniaArif/Check-if-a-number-is-prime-or-composite/blob/main/prime_number_practice.ipynb\" target=\"_parent\"><img src=\"https://colab.research.google.com/assets/colab-badge.svg\" alt=\"Open In Colab\"/></a>"
      ]
    },
    {
      "cell_type": "code",
      "metadata": {
        "colab": {
          "base_uri": "https://localhost:8080/"
        },
        "id": "PIdWHN53i01C",
        "outputId": "a84d0620-9976-4a44-ed61-c0024dca16f7"
      },
      "source": [
        "def checkPrime(n):\r\n",
        "    if (n == 1):\r\n",
        "      return False\r\n",
        "    x = (n+1)/6\r\n",
        "    y = (n-1)/6\r\n",
        "    if (n == 2 or n == -2 or n == 3 or n ==-3 or x.is_integer() == True or y.is_integer() == True):\r\n",
        "      return True\r\n",
        "    return False\r\n",
        "\r\n",
        "print(checkPrime(49))"
      ],
      "execution_count": null,
      "outputs": [
        {
          "output_type": "stream",
          "text": [
            "True\n"
          ],
          "name": "stdout"
        }
      ]
    },
    {
      "cell_type": "code",
      "metadata": {
        "colab": {
          "base_uri": "https://localhost:8080/"
        },
        "id": "0KjK3t6wCNX6",
        "outputId": "d4312fb2-3ada-4ddc-cb5e-dd8ab6bd2e94"
      },
      "source": [
        "n = 10\r\n",
        "fact = 1\r\n",
        "for i in range(1,n+1):\r\n",
        "  fact = fact* i\r\n",
        "print (fact)"
      ],
      "execution_count": null,
      "outputs": [
        {
          "output_type": "stream",
          "text": [
            "3628800\n"
          ],
          "name": "stdout"
        }
      ]
    },
    {
      "cell_type": "code",
      "metadata": {
        "colab": {
          "base_uri": "https://localhost:8080/"
        },
        "id": "Xj2G5AOEDXUH",
        "outputId": "38777112-a249-4919-a821-75cf37945107"
      },
      "source": [
        "import math\r\n",
        "n = 10\r\n",
        "pi = 3.14\r\n",
        "e = 2.71\r\n",
        "fact = math.sqrt(2 * pi * n) * ((n / e)**n)\r\n",
        "print (fact)"
      ],
      "execution_count": null,
      "outputs": [
        {
          "output_type": "stream",
          "text": [
            "3709256.8990200134\n"
          ],
          "name": "stdout"
        }
      ]
    },
    {
      "cell_type": "code",
      "metadata": {
        "colab": {
          "base_uri": "https://localhost:8080/"
        },
        "id": "1GC5k4G8KtZr",
        "outputId": "35011683-f0d7-4a21-f9c9-24545fb0f6de"
      },
      "source": [
        "import math\r\n",
        "n = 6\r\n",
        "pi = 3.14\r\n",
        "e = 2.71\r\n",
        "fact = 10**((   (n*math.log(n)) - n + (0.5*math.log(n)) + math.log(math.sqrt(2*pi)  ))/math.log(10))\r\n",
        "print (fact)"
      ],
      "execution_count": null,
      "outputs": [
        {
          "output_type": "stream",
          "text": [
            "709.8981721355555\n"
          ],
          "name": "stdout"
        }
      ]
    }
  ]
}